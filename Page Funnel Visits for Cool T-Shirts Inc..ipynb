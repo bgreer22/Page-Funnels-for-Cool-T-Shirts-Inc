{
 "cells": [
  {
   "cell_type": "markdown",
   "metadata": {},
   "source": [
    "In this project, we examine a page visits funnel for an online T-shirt company to examine how many people complete a 4-step process:\n",
    "<ol>1.  A user visits CoolTShirts.com</ol>\n",
    "<ol>2.  A user adds a t-shirt to their cart.</ol>\n",
    "<ol>3.  A user clicks \"checkout\".</ol>\n",
    "<ol>4.  A user completes their purchase.</ol>"
   ]
  },
  {
   "cell_type": "markdown",
   "metadata": {},
   "source": [
    "This project will be completed using the pandas library within python and will involve 4 different csv sheets. Let's get started.\n",
    "<br>\n",
    "<br>\n",
    "First, we import pandas."
   ]
  },
  {
   "cell_type": "code",
   "execution_count": 1,
   "metadata": {},
   "outputs": [],
   "source": [
    "# Import pandas\n",
    "import pandas as pd"
   ]
  },
  {
   "cell_type": "markdown",
   "metadata": {},
   "source": [
    "Next, we import our 4 csv sheets into pandas as dataframes. We'll also use the parse_dates functionality to make sure our data is rendered properly:"
   ]
  },
  {
   "cell_type": "code",
   "execution_count": 2,
   "metadata": {},
   "outputs": [],
   "source": [
    "# Import the 4 csv files as pandas dataframes.\n",
    "visits = pd.read_csv('visits.csv',\n",
    "                     parse_dates=[1])\n",
    "cart = pd.read_csv('cart.csv',\n",
    "                   parse_dates=[1])\n",
    "                   \n",
    "checkout = pd.read_csv('checkout.csv',\n",
    "                       parse_dates=[1])\n",
    "purchase = pd.read_csv('purchase.csv',\n",
    "                       parse_dates=[1])"
   ]
  },
  {
   "cell_type": "markdown",
   "metadata": {},
   "source": [
    "It's a good idea to check if there are any duplicate rows in any of the DataFrames. We can do this efficiently like this:"
   ]
  },
  {
   "cell_type": "code",
   "execution_count": 3,
   "metadata": {},
   "outputs": [
    {
     "name": "stdout",
     "output_type": "stream",
     "text": [
      "True\n",
      "True\n",
      "True\n",
      "False\n"
     ]
    }
   ],
   "source": [
    "dataframes = [visits, cart, checkout, purchase]\n",
    "\n",
    "for df in dataframes:\n",
    "    print(len(df)==len(df.drop_duplicates()))"
   ]
  },
  {
   "cell_type": "markdown",
   "metadata": {},
   "source": [
    "Let's fix this:"
   ]
  },
  {
   "cell_type": "code",
   "execution_count": 5,
   "metadata": {},
   "outputs": [],
   "source": [
    "purchase.drop_duplicates(inplace=True)\n",
    "\n",
    "purchase.reset_index(inplace=True)"
   ]
  },
  {
   "cell_type": "markdown",
   "metadata": {},
   "source": [
    "Next, we'll print the first 5 lines of the DataFrames to inspect them:"
   ]
  },
  {
   "cell_type": "code",
   "execution_count": 6,
   "metadata": {},
   "outputs": [
    {
     "name": "stdout",
     "output_type": "stream",
     "text": [
      "                                user_id          visit_time\n",
      "0  943647ef-3682-4750-a2e1-918ba6f16188 2017-04-07 15:14:00\n",
      "1  0c3a3dd0-fb64-4eac-bf84-ba069ce409f2 2017-01-26 14:24:00\n",
      "2  6e0b2d60-4027-4d9a-babd-0e7d40859fb1 2017-08-20 08:23:00\n",
      "3  6879527e-c5a6-4d14-b2da-50b85212b0ab 2017-11-04 18:15:00\n",
      "4  a84327ff-5daa-4ba1-b789-d5b4caf81e96 2017-02-27 11:25:00\n",
      "                                user_id           cart_time\n",
      "0  2be90e7c-9cca-44e0-bcc5-124b945ff168 2017-11-07 20:45:00\n",
      "1  4397f73f-1da3-4ab3-91af-762792e25973 2017-05-27 01:35:00\n",
      "2  a9db3d4b-0a0a-4398-a55a-ebb2c7adf663 2017-03-04 10:38:00\n",
      "3  b594862a-36c5-47d5-b818-6e9512b939b3 2017-09-27 08:22:00\n",
      "4  a68a16e2-94f0-4ce8-8ce3-784af0bbb974 2017-07-26 15:48:00\n",
      "                                user_id       checkout_time\n",
      "0  d33bdc47-4afa-45bc-b4e4-dbe948e34c0d 2017-06-25 09:29:00\n",
      "1  4ac186f0-9954-4fea-8a27-c081e428e34e 2017-04-07 20:11:00\n",
      "2  3c9c78a7-124a-4b77-8d2e-e1926e011e7d 2017-07-13 11:38:00\n",
      "3  89fe330a-8966-4756-8f7c-3bdbcd47279a 2017-04-20 16:15:00\n",
      "4  3ccdaf69-2d30-40de-b083-51372881aedd 2017-01-08 20:52:00\n",
      "   index                               user_id       purchase_time\n",
      "0      0  4b44ace4-2721-47a0-b24b-15fbfa2abf85 2017-05-11 04:25:00\n",
      "1      1  02e684ae-a448-408f-a9ff-dcb4a5c99aac 2017-09-05 08:45:00\n",
      "2      2  4b4bc391-749e-4b90-ab8f-4f6e3c84d6dc 2017-11-20 20:49:00\n",
      "3      3  a5dbb25f-3c36-4103-9030-9f7c6241cd8d 2017-01-22 15:18:00\n",
      "4      4  46a3186d-7f5a-4ab9-87af-84d05bfd4867 2017-06-11 11:32:00\n"
     ]
    }
   ],
   "source": [
    "print(visits.head())\n",
    "print(cart.head())\n",
    "print(checkout.head())\n",
    "print(purchase.head())"
   ]
  },
  {
   "cell_type": "markdown",
   "metadata": {},
   "source": [
    "We notice that each DataFrame has a similar structure: a user_id column and a second column indicating a certain action was taken by the customer (when they first logged on, when they added something to their cart, when they checked out, and when they completed their purchase).\n",
    "<br>\n",
    "<br>\n",
    "To see how many people who visited the website added an item to their cart, we can begin by doing a left merge on the first two DataFrames, visits and carts. A left merge will make sure all data from the lefthand DataFrame (in this case, visits) will be included in the merged DataFrame, while NaN values will be filled in for anyone who did not add something to their cart:"
   ]
  },
  {
   "cell_type": "code",
   "execution_count": 7,
   "metadata": {},
   "outputs": [
    {
     "name": "stdout",
     "output_type": "stream",
     "text": [
      "                                user_id          visit_time  \\\n",
      "0  943647ef-3682-4750-a2e1-918ba6f16188 2017-04-07 15:14:00   \n",
      "1  0c3a3dd0-fb64-4eac-bf84-ba069ce409f2 2017-01-26 14:24:00   \n",
      "2  6e0b2d60-4027-4d9a-babd-0e7d40859fb1 2017-08-20 08:23:00   \n",
      "3  6879527e-c5a6-4d14-b2da-50b85212b0ab 2017-11-04 18:15:00   \n",
      "4  a84327ff-5daa-4ba1-b789-d5b4caf81e96 2017-02-27 11:25:00   \n",
      "\n",
      "            cart_time  \n",
      "0                 NaT  \n",
      "1 2017-01-26 14:44:00  \n",
      "2 2017-08-20 08:31:00  \n",
      "3                 NaT  \n",
      "4                 NaT  \n"
     ]
    }
   ],
   "source": [
    "# Create a left-merge between the visits and carts DataFrames\n",
    "visit_cart_merge = pd.merge(visits, cart, how='left')\n",
    "\n",
    "print(visit_cart_merge.head())"
   ]
  },
  {
   "cell_type": "markdown",
   "metadata": {},
   "source": [
    "To get the length of each dataframe, we can use the len() method:"
   ]
  },
  {
   "cell_type": "code",
   "execution_count": 8,
   "metadata": {},
   "outputs": [
    {
     "name": "stdout",
     "output_type": "stream",
     "text": [
      "2000 348 2000\n"
     ]
    }
   ],
   "source": [
    "# Print the length of visits, carts, and their merge\n",
    "print(len(visits), len(cart), len(visit_cart_merge))"
   ]
  },
  {
   "cell_type": "markdown",
   "metadata": {},
   "source": [
    "As we can see, the left merge we performed has the same length (2000 rows) as the visits DataFrame, while the carts DataFrame is much shorter. This means that of the 2000 people who visited the website, 1652 of them did not add anything to their cart. We can also see this by checking the number of NaN values in the merged_data frame in the 'cart_time' category."
   ]
  },
  {
   "cell_type": "code",
   "execution_count": 9,
   "metadata": {},
   "outputs": [
    {
     "name": "stdout",
     "output_type": "stream",
     "text": [
      "1652\n"
     ]
    }
   ],
   "source": [
    "# Print the number of rows of the merged DataFrame that has a null value for the cart_time column\n",
    "print(len(visit_cart_merge[visit_cart_merge['cart_time'].isnull()]))"
   ]
  },
  {
   "cell_type": "markdown",
   "metadata": {},
   "source": [
    "The values match as expected, the percent of visitors who added something to their cart is:"
   ]
  },
  {
   "cell_type": "code",
   "execution_count": 10,
   "metadata": {},
   "outputs": [
    {
     "name": "stdout",
     "output_type": "stream",
     "text": [
      "17.4%\n"
     ]
    }
   ],
   "source": [
    "# Calculate the percent of visitors who added something to their cart\n",
    "print(str((348/2000)*100) + \"%\")"
   ]
  },
  {
   "cell_type": "markdown",
   "metadata": {},
   "source": [
    "Only 17.4% of 2000 visitors added an item to their cart or 82.6% people of visitors didn't add anything to their cart.\n",
    "<br>\n",
    "<br>\n",
    "Now let's see how many people proceeded to checkout after adding something to their cart. We'll perform another left merge but this time with the cart and checkout DataFrames:"
   ]
  },
  {
   "cell_type": "code",
   "execution_count": 11,
   "metadata": {},
   "outputs": [
    {
     "name": "stdout",
     "output_type": "stream",
     "text": [
      "348 122\n"
     ]
    }
   ],
   "source": [
    "# Perform a left merge on the cart and checkout DataFrames\n",
    "cart_checkout_merge = pd.merge(cart, checkout, how='left')\n",
    "\n",
    "# Print the length of the cart + checkout merge and the number of rows where the checkout_time column is null\n",
    "print(len(cart_checkout_merge), len(cart_checkout_merge[cart_checkout_merge['checkout_time'].isnull()]))"
   ]
  },
  {
   "cell_type": "markdown",
   "metadata": {},
   "source": [
    "This merge has 348 rows (as expected, sicne we performed a left merge with cart being the left DataFrame) and 122 rows with a null value for the checkout time. As a percent this is:"
   ]
  },
  {
   "cell_type": "code",
   "execution_count": 12,
   "metadata": {},
   "outputs": [
    {
     "name": "stdout",
     "output_type": "stream",
     "text": [
      "35.05747126436782%\n"
     ]
    }
   ],
   "source": [
    "# Calculate the percentage of people who add something to their cart continue to checkout\n",
    "print(str((122/348)*100) + \"%\")"
   ]
  },
  {
   "cell_type": "markdown",
   "metadata": {},
   "source": [
    "~35% of people who added something to their cart did not proceed to check out. In other words, 65% of people who added something to their cart <em>did</em> check out.\n",
    "<br>\n",
    "<br>\n",
    "Now, let's see how many of the people who proceed to checkout actually complete their purchase. We'll perform a left merge on the checkout and purchase dataframes:"
   ]
  },
  {
   "cell_type": "code",
   "execution_count": 13,
   "metadata": {},
   "outputs": [
    {
     "name": "stdout",
     "output_type": "stream",
     "text": [
      "330 82\n"
     ]
    }
   ],
   "source": [
    "# Perform a left merge on the checkout and purchase DataFrames\n",
    "checkout_purchase_merge = pd.merge(checkout, purchase, how='left')\n",
    "\n",
    "# Print the length of the c + checkout merge and the number of rows where the checkout_time column is null\n",
    "print(len(checkout_purchase_merge), len(checkout_purchase_merge[checkout_purchase_merge['purchase_time'].isnull()]))"
   ]
  },
  {
   "cell_type": "code",
   "execution_count": 15,
   "metadata": {},
   "outputs": [
    {
     "name": "stdout",
     "output_type": "stream",
     "text": [
      "24.848484848484848%\n"
     ]
    }
   ],
   "source": [
    "# Calculate the percentage of people who proceed to checkout complete the purchase\n",
    "print(str((82/330)*100) + \"%\")"
   ]
  },
  {
   "cell_type": "markdown",
   "metadata": {},
   "source": [
    "Of the people who proceed to checkout, 24.85% did not complete their purchase or 75.15% of those who proceeded to checkout completed their purchase.\n",
    "<br>\n",
    "<br>\n",
    "Clearly, the weakest part of the funnel is getting someone who visits the website to add something to their cart."
   ]
  },
  {
   "cell_type": "markdown",
   "metadata": {},
   "source": [
    "*The weakest part of the funnel is clearly getting a person who visited the site to add a tshirt to their cart. Once they've added a t-shirt to their cart it is fairly likely they end up purchasing it. A suggestion could be to make the add-to-cart button more prominent on the front page.*\n"
   ]
  },
  {
   "cell_type": "markdown",
   "metadata": {},
   "source": [
    "For those who do complete their purchase, let's see how long they take from the time they visit the site to completing the purchase. To do this, we'll need to merge the all the data_frames:"
   ]
  },
  {
   "cell_type": "code",
   "execution_count": 16,
   "metadata": {},
   "outputs": [],
   "source": [
    "# Perform a left merge on the first 3 DataFrames\n",
    "visit_cart_checkout_merge = pd.merge(visit_cart_merge, checkout, how='left')\n",
    "\n",
    "# Perform a left merge on all the DataFrames\n",
    "all_data = pd.merge(visit_cart_checkout_merge, purchase, how='left')"
   ]
  },
  {
   "cell_type": "markdown",
   "metadata": {},
   "source": [
    "To calculate the average time from arriving on the site to completing the purchase, let's first create a new column:"
   ]
  },
  {
   "cell_type": "code",
   "execution_count": 22,
   "metadata": {},
   "outputs": [
    {
     "name": "stdout",
     "output_type": "stream",
     "text": [
      "                                user_id          visit_time  \\\n",
      "0  943647ef-3682-4750-a2e1-918ba6f16188 2017-04-07 15:14:00   \n",
      "1  0c3a3dd0-fb64-4eac-bf84-ba069ce409f2 2017-01-26 14:24:00   \n",
      "2  6e0b2d60-4027-4d9a-babd-0e7d40859fb1 2017-08-20 08:23:00   \n",
      "3  6879527e-c5a6-4d14-b2da-50b85212b0ab 2017-11-04 18:15:00   \n",
      "4  a84327ff-5daa-4ba1-b789-d5b4caf81e96 2017-02-27 11:25:00   \n",
      "\n",
      "            cart_time       checkout_time  index       purchase_time  \\\n",
      "0                 NaT                 NaT    NaN                 NaT   \n",
      "1 2017-01-26 14:44:00 2017-01-26 14:54:00  121.0 2017-01-26 15:08:00   \n",
      "2 2017-08-20 08:31:00                 NaT    NaN                 NaT   \n",
      "3                 NaT                 NaT    NaN                 NaT   \n",
      "4                 NaT                 NaT    NaN                 NaT   \n",
      "\n",
      "  time_to_complete_purchase  \n",
      "0                       NaT  \n",
      "1           0 days 00:44:00  \n",
      "2                       NaT  \n",
      "3                       NaT  \n",
      "4                       NaT  \n"
     ]
    }
   ],
   "source": [
    "# Create a new column showing the amount of time elapsed between when someone visits the site and when they complete their purchase\n",
    "all_data['time_to_complete_purchase'] = all_data['purchase_time'] - all_data['visit_time']\n",
    "\n",
    "# Display the first 5 rows of all_data\n",
    "print(all_data.head())"
   ]
  },
  {
   "cell_type": "markdown",
   "metadata": {},
   "source": [
    "Now let's get the summary statistics on this last column:"
   ]
  },
  {
   "cell_type": "code",
   "execution_count": 23,
   "metadata": {},
   "outputs": [
    {
     "data": {
      "text/plain": [
       "count                          248\n",
       "mean     0 days 00:43:07.741935483\n",
       "std      0 days 00:14:39.083842854\n",
       "min                0 days 00:09:00\n",
       "25%                0 days 00:32:00\n",
       "50%                0 days 00:44:30\n",
       "75%                0 days 00:54:00\n",
       "max                0 days 01:17:00\n",
       "Name: time_to_complete_purchase, dtype: object"
      ]
     },
     "execution_count": 23,
     "metadata": {},
     "output_type": "execute_result"
    }
   ],
   "source": [
    "all_data.time_to_complete_purchase.describe()"
   ]
  },
  {
   "cell_type": "markdown",
   "metadata": {},
   "source": [
    "We can see that the average time to complete a purchase is about 43 minutes. 75% of customers complete their purchase in just under an hour. This would seem to indicate that people are browsing on the website before purchasing rather than knowing immediately what they want upon visiting."
   ]
  }
 ],
 "metadata": {
  "kernelspec": {
   "display_name": "Python 3 (ipykernel)",
   "language": "python",
   "name": "python3"
  },
  "language_info": {
   "codemirror_mode": {
    "name": "ipython",
    "version": 3
   },
   "file_extension": ".py",
   "mimetype": "text/x-python",
   "name": "python",
   "nbconvert_exporter": "python",
   "pygments_lexer": "ipython3",
   "version": "3.10.9"
  }
 },
 "nbformat": 4,
 "nbformat_minor": 4
}
